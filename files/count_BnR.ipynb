{
 "cells": [
  {
   "cell_type": "code",
   "execution_count": 1,
   "metadata": {},
   "outputs": [],
   "source": [
    "import os\n",
    "import sys\n",
    "path_home = os.path.expanduser('~')\n",
    "\n",
    "import pandas as pd\n",
    "import matplotlib.pyplot as plt\n",
    "\n",
    "fontSz = 15\n",
    "fontsz = 13"
   ]
  },
  {
   "cell_type": "code",
   "execution_count": 2,
   "metadata": {},
   "outputs": [],
   "source": [
    "df = pd.read_csv(path_home+'/Dropbox/PhD/html/web-page/files/Activities.csv')#, sep=',', index_col=0)"
   ]
  },
  {
   "cell_type": "markdown",
   "metadata": {},
   "source": [
    "__find all corse__"
   ]
  },
  {
   "cell_type": "code",
   "execution_count": 3,
   "metadata": {},
   "outputs": [],
   "source": [
    "ic = []\n",
    "for i in df.index:\n",
    "    if 'Corsa' in df['Tipo di attività'][i]:\n",
    "        ic.append(i)\n",
    "\n",
    "ib = []\n",
    "for i in df.index:\n",
    "    if 'Ciclismo' in df['Tipo di attività'][i]:\n",
    "        ib.append(i)"
   ]
  },
  {
   "cell_type": "markdown",
   "metadata": {},
   "source": [
    "__sum distances__"
   ]
  },
  {
   "cell_type": "code",
   "execution_count": 4,
   "metadata": {},
   "outputs": [],
   "source": [
    "sb = []\n",
    "sr = []\n",
    "for i in ib:\n",
    "    sb.append(sum(df.loc[ib].loc[i:].Distanza))\n",
    "\n",
    "for i in ic:\n",
    "    sr.append(sum(df.loc[ic].loc[i:].Distanza))"
   ]
  },
  {
   "cell_type": "markdown",
   "metadata": {},
   "source": [
    "__plot__"
   ]
  },
  {
   "cell_type": "code",
   "execution_count": 5,
   "metadata": {},
   "outputs": [
    {
     "data": {
      "image/png": "[encoded data removed]",
      "text/plain": [
       "<Figure size 540x252 with 1 Axes>"
      ]
     },
     "metadata": {
      "needs_background": "light"
     },
     "output_type": "display_data"
    }
   ],
   "source": [
    "fig, ax = plt.subplots(1,1,figsize=(7.5,3.5))\n",
    "# plt.plot([pd.to_datetime(i) for i in f.index], f.km)\n",
    "lw = 3\n",
    "ms = 1\n",
    "plt.plot([pd.to_datetime(i) for i in df.loc[ib].Data], sb, linewidth=lw, c='r', marker='8', markersize=ms, label='biking  : %.1f km'%(sb[0])) # marker='8', markersize=ms, \n",
    "plt.plot([pd.to_datetime(i) for i in df.loc[ic].Data], sr, linewidth=lw, c='b', marker='s', markersize=ms, label='running : %.1f km'%(sr[0])) # marker='s', markersize=ms, \n",
    "plt.xticks(rotation=20)\n",
    "\n",
    "# plt.yscale('log')\n",
    "plt.ylabel('km', fontsize=fontsz)\n",
    "plt.legend(ncol=2, framealpha=0., prop={'family': 'monospace', 'size':fontsz}, loc='lower center', bbox_to_anchor=(0.5, .98))\n",
    "plt.tick_params(axis='both',which='both',direction='out',labelsize=fontsz)\n",
    "\n",
    "# plt.grid(axis='y', alpha=0.5)\n",
    "minor_ticks = [i*50 for i in range(15)]\n",
    "ax.set_yticks(minor_ticks, minor=True)\n",
    "major_t = [200, 400, 600]\n",
    "ax.set_yticks(major_t)\n",
    "plt.grid(which='minor', linestyle='--', alpha=0.1, c='k', axis='y')\n",
    "plt.grid(which='major', alpha=0.3, c='k', axis='y')\n",
    "\n",
    "path_fig = path_home+'/Dropbox/PhD/html/web-page/images/rnb.jpg'\n",
    "# plt.savefig(path_fig, dpi=300, format='png', bbox_inches=\"tight\", transparent=True)\n",
    "plt.show()"
   ]
  }
 ],
 "metadata": {
  "kernelspec": {
   "display_name": "Python 3",
   "language": "python",
   "name": "python3"
  },
  "language_info": {
   "codemirror_mode": {
    "name": "ipython",
    "version": 3
   },
   "file_extension": ".py",
   "mimetype": "text/x-python",
   "name": "python",
   "nbconvert_exporter": "python",
   "pygments_lexer": "ipython3",
   "version": "3.8.10"
  }
 },
 "nbformat": 4,
 "nbformat_minor": 4
}
